{
 "cells": [
  {
   "cell_type": "code",
   "execution_count": 34,
   "metadata": {},
   "outputs": [],
   "source": [
    "import pandas as pd\n",
    "from slovnet import NER\n",
    "from natasha import (\n",
    "    Segmenter,\n",
    "    MorphVocab,\n",
    "    NewsEmbedding,\n",
    "    NewsMorphTagger,\n",
    "    NewsSyntaxParser,\n",
    "    NewsNERTagger,\n",
    "    PER,\n",
    "    NamesExtractor,\n",
    "    Doc\n",
    ")\n",
    "from natasha import NewsNERTagger"
   ]
  },
  {
   "cell_type": "markdown",
   "metadata": {},
   "source": [
    "Примерный план:\n",
    " - преобразовать текстовые данные в pandas \n",
    " - найти именованные сущности, нормализовать, построить словари и сеты\n",
    " - "
   ]
  },
  {
   "cell_type": "markdown",
   "metadata": {},
   "source": [
    "## Преобразуем текстовые данные в датафрейм"
   ]
  },
  {
   "cell_type": "code",
   "execution_count": 35,
   "metadata": {},
   "outputs": [],
   "source": [
    "file = open('data/raw/text_raw.txt', 'r', encoding = 'utf-8')\n",
    "list_text = []\n",
    "for line in file:\n",
    "    line = line.strip()\n",
    "    if line != '':\n",
    "        list_text.append(line)"
   ]
  },
  {
   "cell_type": "code",
   "execution_count": 36,
   "metadata": {},
   "outputs": [],
   "source": [
    "df_raw = pd.DataFrame({'text':list_text})"
   ]
  },
  {
   "cell_type": "code",
   "execution_count": 37,
   "metadata": {},
   "outputs": [
    {
     "data": {
      "text/plain": [
       "(text    0\n",
       " dtype: int64,\n",
       " text    0\n",
       " dtype: int64)"
      ]
     },
     "execution_count": 37,
     "metadata": {},
     "output_type": "execute_result"
    }
   ],
   "source": [
    "df_raw.isna().sum(), df_raw.isnull().sum()"
   ]
  },
  {
   "cell_type": "markdown",
   "metadata": {},
   "source": [
    "Как видно от пропусков удалось избавится"
   ]
  },
  {
   "cell_type": "code",
   "execution_count": 38,
   "metadata": {},
   "outputs": [],
   "source": [
    "df_raw.to_csv('data/interim/df_raw.csv', index=False)"
   ]
  },
  {
   "cell_type": "markdown",
   "metadata": {},
   "source": [
    "Выделяем фичи из текстов"
   ]
  },
  {
   "cell_type": "code",
   "execution_count": 46,
   "metadata": {},
   "outputs": [
    {
     "name": "stdout",
     "output_type": "stream",
     "text": [
      "┌────────────► 17              obl\n",
      "│              февраля         \n",
      "│              1993            \n",
      "│ ┌──────────► Постановлением  obl\n",
      "│ │   ┌─┌──►┌─ Правительства   nmod\n",
      "│ │   │ │   └► РФ              nmod\n",
      "│ │   │ │   ┌► во              case\n",
      "│ │ ┌►│ │ ┌─└─ исполнение      obl\n",
      "│ │ │ │ └─└►┌─ Указа           nmod\n",
      "│ │ │ │     └► Президента      nmod\n",
      "│ │ │ └──────► РФ              nmod\n",
      "│ │ │     ┌──► Государственный amod\n",
      "│ │ │     │ ┌► газовый         amod\n",
      "│ │ │ ┌►┌─└─└─ концерн         nsubj:pass\n",
      "│ │ │ │ │   ┌► «               punct\n",
      "│ │ │ │ └►┌─└─ Газпром         appos\n",
      "│ │ │ │   └──► »               punct\n",
      "└─└─└─└─────── преобразован    \n",
      "  │ │   ┌────► в               case\n",
      "  │ │   │ ┌──► Российское      amod\n",
      "  │ │   │ │ ┌► акционерное     amod\n",
      "  │ └──►└─└─└─ общество        obl\n",
      "  └──────────► .               punct\n"
     ]
    }
   ],
   "source": [
    "segmenter = Segmenter()\n",
    "emb = NewsEmbedding()\n",
    "morph_tagger = NewsMorphTagger(emb)\n",
    "syntax_parser = NewsSyntaxParser(emb)\n",
    "\n",
    "text = df_raw.loc[0, 'text']\n",
    "doc = Doc(text)\n",
    "\n",
    "doc.segment(segmenter)\n",
    "doc.tag_morph(morph_tagger)\n",
    "doc.parse_syntax(syntax_parser)\n",
    "\n",
    "sent = doc.sents[0]\n",
    "\n",
    "sent.syntax.print()"
   ]
  },
  {
   "cell_type": "code",
   "execution_count": 47,
   "metadata": {},
   "outputs": [],
   "source": [
    "doc.tag_ner(ner_tagger)"
   ]
  },
  {
   "cell_type": "code",
   "execution_count": 48,
   "metadata": {},
   "outputs": [
    {
     "name": "stdout",
     "output_type": "stream",
     "text": [
      "17 февраля 1993 Постановлением Правительства РФ во исполнение Указа \n",
      "                               ORG────────── LO                     \n",
      "Президента РФ Государственный газовый концерн «Газпром» преобразован в\n",
      "           LO                                  ORG────                \n",
      " Российское акционерное общество.\n",
      " ORG──────────────────────────── \n"
     ]
    }
   ],
   "source": [
    "from natasha import NewsNERTagger\n",
    "ner_tagger = NewsNERTagger(emb)\n",
    "doc.tag_ner(ner_tagger)\n",
    "\n",
    "doc.ner.print()"
   ]
  },
  {
   "cell_type": "code",
   "execution_count": 33,
   "metadata": {},
   "outputs": [
    {
     "data": {
      "text/plain": [
       "'Правительства'"
      ]
     },
     "execution_count": 33,
     "metadata": {},
     "output_type": "execute_result"
    }
   ],
   "source": [
    "doc.text[31:44]"
   ]
  },
  {
   "cell_type": "code",
   "execution_count": 26,
   "metadata": {},
   "outputs": [
    {
     "data": {
      "text/plain": [
       "NERMarkup(\n",
       "    text='17 февраля 1993 Постановлением Правительства РФ во исполнение Указа Президента РФ Государственный газовый концерн «Газпром» преобразован в Российское акционерное общество.',\n",
       "    spans=[Span(\n",
       "         start=31,\n",
       "         stop=44,\n",
       "         type='ORG'\n",
       "     ),\n",
       "     Span(\n",
       "         start=45,\n",
       "         stop=47,\n",
       "         type='LOC'\n",
       "     ),\n",
       "     Span(\n",
       "         start=79,\n",
       "         stop=81,\n",
       "         type='LOC'\n",
       "     ),\n",
       "     Span(\n",
       "         start=115,\n",
       "         stop=122,\n",
       "         type='ORG'\n",
       "     ),\n",
       "     Span(\n",
       "         start=139,\n",
       "         stop=170,\n",
       "         type='ORG'\n",
       "     )]\n",
       ")"
      ]
     },
     "execution_count": 26,
     "metadata": {},
     "output_type": "execute_result"
    }
   ],
   "source": [
    "doc.ner"
   ]
  }
 ],
 "metadata": {
  "kernelspec": {
   "display_name": "mlposproj-1nw0nqZ7-py3.10",
   "language": "python",
   "name": "python3"
  },
  "language_info": {
   "codemirror_mode": {
    "name": "ipython",
    "version": 3
   },
   "file_extension": ".py",
   "mimetype": "text/x-python",
   "name": "python",
   "nbconvert_exporter": "python",
   "pygments_lexer": "ipython3",
   "version": "3.10.6"
  },
  "orig_nbformat": 4
 },
 "nbformat": 4,
 "nbformat_minor": 2
}
